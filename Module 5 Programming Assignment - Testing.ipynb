{
 "cells": [
  {
   "cell_type": "code",
   "execution_count": 1,
   "id": "8b61fe32-325c-41d0-a20f-d5d84d166b96",
   "metadata": {},
   "outputs": [],
   "source": [
    "def sum(arg):\n",
    "    total = 0\n",
    "    for val in arg:\n",
    "        total += val\n",
    "    return total"
   ]
  },
  {
   "cell_type": "code",
   "execution_count": null,
   "id": "2b6b380f-b4e5-4050-8e1a-62887354f6af",
   "metadata": {},
   "outputs": [],
   "source": [
    "from fractions import Fraction\n",
    "import unittest\n",
    "\n",
    "from my_sum import sum\n",
    "\n",
    "\n",
    "class TestSum(unittest.TestCase):\n",
    "    def test_list_int(self):\n",
    "        \"\"\"\n",
    "        Test that it can sum a list of integers\n",
    "        \"\"\"\n",
    "        data = [1, 2, 3]\n",
    "        result = sum(data)\n",
    "        self.assertEqual(result, 6)\n",
    "\n",
    "if __name__ == '__main__':\n",
    "    unittest.main()"
   ]
  },
  {
   "cell_type": "code",
   "execution_count": null,
   "id": "4f411570-eba8-497e-9a1d-71cb5f5f82f6",
   "metadata": {},
   "outputs": [],
   "source": [
    "-python -m unittest test\n",
    "This will execute the module name test\n",
    "\n",
    "-python -m unittest -v test\n",
    "Run the unnitest module and execute the module name test, and with -v(verbose mode) it will will show detailed information about tests when run. The information would include name of each test and whether passed/failed. \n",
    "\n",
    "-python -m unittest discover\n",
    "Used to automatically discover files in current directory and search for files named test*.py to will try to test them. \n",
    "\n",
    "-python -m unittest discover -s tests\n",
    "This will look for and run test files starting with test and will give results in a single test plan. \n",
    "\n",
    "-python -m unittest discover -s tests -t src\n",
    "Run all test discovered in the tests directory while treating src directory as the top-level directory. This will ensure resolves import correctly. "
   ]
  }
 ],
 "metadata": {
  "kernelspec": {
   "display_name": "Python 3 (ipykernel)",
   "language": "python",
   "name": "python3"
  },
  "language_info": {
   "codemirror_mode": {
    "name": "ipython",
    "version": 3
   },
   "file_extension": ".py",
   "mimetype": "text/x-python",
   "name": "python",
   "nbconvert_exporter": "python",
   "pygments_lexer": "ipython3",
   "version": "3.12.4"
  }
 },
 "nbformat": 4,
 "nbformat_minor": 5
}
